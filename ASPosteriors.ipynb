{
 "cells": [
  {
   "cell_type": "code",
   "execution_count": null,
   "id": "cd696378",
   "metadata": {},
   "outputs": [],
   "source": [
    "import os"
   ]
  },
  {
   "cell_type": "code",
   "execution_count": null,
   "id": "e9f16565",
   "metadata": {},
   "outputs": [],
   "source": [
    "def borrar_lineas_archivo(directorio):\n",
    "    # Obtener la lista de archivos dentro del directorio\n",
    "    archivos = os.listdir(directorio)\n",
    "    \n",
    "    for archivo in archivos:\n",
    "        ruta_archivo = os.path.join(directorio, archivo)\n",
    "    # Leer el contenido del archivo\n",
    "        with open(ruta_archivo, 'r+') as f:\n",
    "            lineas = f.readlines()\n",
    "\n",
    "            # Posicionarse al inicio del archivo\n",
    "            f.seek(0)\n",
    "\n",
    "            # Crear una lista para almacenar las líneas filtradas\n",
    "            lineas_filtradas = []\n",
    "\n",
    "        # Filtrar las líneas que no contengan la palabra \"sentence\"\n",
    "            for linea in lineas:\n",
    "                if \"sentence\" not in linea:\n",
    "                    lineas_filtradas.append(linea)\n",
    "\n",
    "            # Escribir el contenido filtrado en el archivo\n",
    "            f.writelines(lineas_filtradas)\n",
    "\n",
    "            # Truncar el contenido restante del archivo (si hay líneas eliminadas)\n",
    "            f.truncate()\n",
    "\n",
    "# Archivo que deseas modificar\n",
    "directorio = \"C://Users//maria//TFG//AS//files_Human\"  \n",
    "\n",
    "# Llamar a la función para borrar las líneas del archivo\n",
    "borrar_lineas_archivo(directorio)\n"
   ]
  },
  {
   "cell_type": "code",
   "execution_count": null,
   "id": "361a35bc",
   "metadata": {},
   "outputs": [],
   "source": [
    "import os\n",
    "\n",
    "def duplicate_lines_directory(input_directory, output_directory):\n",
    "    # Obtener la lista de archivos dentro del directorio de entrada\n",
    "    archivos = os.listdir(input_directory)\n",
    "\n",
    "    # Iterar sobre cada archivo en el directorio\n",
    "    for archivo in archivos:\n",
    "        ruta_entrada = os.path.join(input_directory, archivo)\n",
    "        ruta_salida = os.path.join(output_directory, f\"window_{archivo}\")\n",
    "\n",
    "        # Llamar a la función duplicate_lines para cada archivo\n",
    "        duplicate_lines(ruta_entrada, ruta_salida)\n",
    "\n",
    "    print(f\"Procesamiento completo. Archivos duplicados creados en el directorio '{output_directory}'.\")\n",
    "\n",
    "def duplicate_lines(input_file, output_file):\n",
    "    with open(input_file, 'r') as f_in, open(output_file, 'w') as f_out:\n",
    "        lineas = f_in.readlines()\n",
    "        for i in range(len(lineas)):\n",
    "            fila = lineas[i].strip().split()\n",
    "            if i == 0 or fila[0] != lineas[i-1].strip().split()[0]:\n",
    "                f_out.write(f\"{fila[0]} {' '.join(fila[1:])}\\n\")\n",
    "                f_out.write(f\"{fila[0]} {' '.join(fila[1:])}\\n\")\n",
    "                f_out.write(f\"{fila[0]} {' '.join(fila[1:])}\\n\")\n",
    "                f_out.write(f\"{fila[0]} {' '.join(fila[1:])}\\n\")\n",
    "            f_out.write(f\"{fila[0]} {' '.join(fila[1:])}\\n\")\n",
    "            if i == len(lineas) - 1 or fila[0] != lineas[i+1].strip().split()[0]:\n",
    "                f_out.write(f\"{fila[0]} {' '.join(fila[1:])}\\n\")\n",
    "                f_out.write(f\"{fila[0]} {' '.join(fila[1:])}\\n\")\n",
    "                f_out.write(f\"{fila[0]} {' '.join(fila[1:])}\\n\")\n",
    "                f_out.write(f\"{fila[0]} {' '.join(fila[1:])}\\n\")\n",
    "\n",
    "    print(f\"Archivo '{output_file}' creado exitosamente.\")\n",
    "\n",
    "# Directorio de entrada\n",
    "input_directory = \"C:\\\\Users\\\\maria\\\\TFG\\\\AS\\\\files_Human\"  \n",
    "\n",
    "# Directorio de salida\n",
    "output_directory =\"C:\\\\Users\\\\maria\\\\TFG\\\\AS\\\\files_duplicated\"  \n",
    "\n",
    "# Llamar a la función para duplicar las líneas de los archivos en el directorio\n",
    "duplicate_lines_directory(input_directory, output_directory)\n"
   ]
  },
  {
   "cell_type": "code",
   "execution_count": null,
   "id": "bfb85921",
   "metadata": {},
   "outputs": [],
   "source": []
  }
 ],
 "metadata": {
  "kernelspec": {
   "display_name": "Python 3 (ipykernel)",
   "language": "python",
   "name": "python3"
  },
  "language_info": {
   "codemirror_mode": {
    "name": "ipython",
    "version": 3
   },
   "file_extension": ".py",
   "mimetype": "text/x-python",
   "name": "python",
   "nbconvert_exporter": "python",
   "pygments_lexer": "ipython3",
   "version": "3.9.13"
  }
 },
 "nbformat": 4,
 "nbformat_minor": 5
}
