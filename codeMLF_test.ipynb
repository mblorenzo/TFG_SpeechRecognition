{
 "cells": [
  {
   "cell_type": "code",
   "execution_count": null,
   "id": "6a1f81c3",
   "metadata": {},
   "outputs": [],
   "source": [
    "import os"
   ]
  },
  {
   "cell_type": "code",
   "execution_count": null,
   "id": "51c63d41",
   "metadata": {},
   "outputs": [],
   "source": [
    "def copia_cambia(file, copyfile):\n",
    "    \n",
    "    file = open(file, 'r')\n",
    "    copyfile= open(copyfile, 'w')\n",
    "    copyfile.write('#!MLF!#\\n')\n",
    "    \n",
    "    for line in file:\n",
    "            \n",
    "        add_line1 = line[:-5] # add line es igual que line menos las ultimas 5 posiciones que se le quitan\n",
    "        add_line = add_line1[31:]\n",
    "        add_line = '\"' + '*' + add_line + '.lab' + '\"' + '\\n' #le añadimos la nueva terminación y el salto de línea\n",
    "        copyfile.write(add_line)\n",
    "            \n",
    "        if \"AVPEPUDEAC\" in line:\n",
    "            copyfile.write('HC\\n')  # escribe \"HC\" debajo de la línea que contiene \"AVPEPUDEAC\"\n",
    "        else:\n",
    "            copyfile.write('PD\\n')  # escribe \"PD\" debajo de todas las demás líneas\n",
    "            \n",
    "        copyfile.write('.\\n')\n",
    "            \n",
    "    file.close()\n",
    "    copyfile.close()"
   ]
  },
  {
   "cell_type": "code",
   "execution_count": null,
   "id": "d429d02d",
   "metadata": {},
   "outputs": [],
   "source": [
    "carpetas = [('C:\\\\Users\\\\maria\\\\TFG\\\\mfcc_test', \"C:\\\\Users\\\\maria\\\\TFG\\\\mlf_test\"),\n",
    "            ('C:\\\\Users\\\\maria\\\\TFG\\\\mfcc_test', \"C:\\\\Users\\\\maria\\\\TFG\\\\mlf_test\"),\n",
    "            ('C:\\\\Users\\\\maria\\\\TFG\\\\mfcc_test', \"C:\\\\Users\\\\maria\\\\TFG\\\\mlf_test\"),\n",
    "            ('C:\\\\Users\\\\maria\\\\TFG\\\\mfcc_test', \"C:\\\\Users\\\\maria\\\\TFG\\\\mlf_test\"),\n",
    "            ('C:\\\\Users\\\\maria\\\\TFG\\\\mfcc_test', \"C:\\\\Users\\\\maria\\\\TFG\\\\mlf_test\"),\n",
    "            ('C:\\\\Users\\\\maria\\\\TFG\\\\mfcc_test', \"C:\\\\Users\\\\maria\\\\TFG\\\\mlf_test\"),\n",
    "            ('C:\\\\Users\\\\maria\\\\TFG\\\\mfcc_test', \"C:\\\\Users\\\\maria\\\\TFG\\\\mlf_test\"),\n",
    "            ('C:\\\\Users\\\\maria\\\\TFG\\\\mfcc_test', \"C:\\\\Users\\\\maria\\\\TFG\\\\mlf_test\"),\n",
    "            ('C:\\\\Users\\\\maria\\\\TFG\\\\mfcc_test', \"C:\\\\Users\\\\maria\\\\TFG\\\\mlf_test\"),\n",
    "            ('C:\\\\Users\\\\maria\\\\TFG\\\\mfcc_test', \"C:\\\\Users\\\\maria\\\\TFG\\\\mlf_test\"),\n",
    "            \n",
    "            ]\n",
    "\n",
    "for origen, destino in carpetas:\n",
    "    for archivo in os.listdir(origen): #devuelve una lista con los nombres de todos los archivos y subdirectorios que están en la carpeta especificada.\n",
    "        if archivo.endswith(\".txt\"):\n",
    "            file_path = os.path.join(origen, archivo) #Si el archivo sí tiene la extensión .txt, se crea la ruta completa de los archivos de entrada y de salida\n",
    "            copyfile_path = os.path.join(destino, \"testMLF\" + archivo[10:])\n",
    "            copia_cambia(file_path, copyfile_path)"
   ]
  },
  {
   "cell_type": "code",
   "execution_count": null,
   "id": "0d794984",
   "metadata": {},
   "outputs": [],
   "source": [
    "print(os.getcwd())"
   ]
  },
  {
   "cell_type": "code",
   "execution_count": null,
   "id": "d5857fd5",
   "metadata": {},
   "outputs": [],
   "source": []
  }
 ],
 "metadata": {
  "kernelspec": {
   "display_name": "Python 3 (ipykernel)",
   "language": "python",
   "name": "python3"
  },
  "language_info": {
   "codemirror_mode": {
    "name": "ipython",
    "version": 3
   },
   "file_extension": ".py",
   "mimetype": "text/x-python",
   "name": "python",
   "nbconvert_exporter": "python",
   "pygments_lexer": "ipython3",
   "version": "3.9.13"
  }
 },
 "nbformat": 4,
 "nbformat_minor": 5
}
