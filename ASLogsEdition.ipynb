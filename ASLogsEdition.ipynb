{
 "cells": [
  {
   "cell_type": "code",
   "execution_count": null,
   "id": "ba5701f2",
   "metadata": {},
   "outputs": [],
   "source": [
    "import os\n",
    "\n",
    "def replace_inf(input_directory):\n",
    "    # Obtener la lista de archivos en el directorio\n",
    "    files = os.listdir(input_directory)\n",
    "    \n",
    "    # Iterar sobre cada archivo en el directorio\n",
    "    for file_name in files:\n",
    "        if file_name.endswith(\".log\"):\n",
    "            # Construir la ruta completa del archivo\n",
    "            file_path = os.path.join(input_directory, file_name)\n",
    "            \n",
    "            # Leer el contenido del archivo\n",
    "            with open(file_path, \"r\") as file:\n",
    "                lines = file.readlines()\n",
    "            \n",
    "            # Reemplazar las ocurrencias de -inf por -1000000 en cada línea\n",
    "            updated_lines = [line.replace(\"-inf\", \"-1000000\") for line in lines]\n",
    "            \n",
    "            # Escribir el contenido actualizado en el archivo\n",
    "            with open(file_path, \"w\") as file:\n",
    "                file.writelines(updated_lines)\n",
    "                \n",
    "            print(f\"Archivo '{file_name}' procesado exitosamente.\")\n",
    "\n",
    "# Directorio de entrada\n",
    "input_directory = \"C:\\\\Users\\\\maria\\\\TFG\\\\AS\\\\files_logs\"\n",
    "\n",
    "# Llamar a la función para reemplazar -inf por -1000000 en todos los archivos\n",
    "replace_inf(input_directory)\n"
   ]
  },
  {
   "cell_type": "code",
   "execution_count": null,
   "id": "8a7caa0a",
   "metadata": {},
   "outputs": [],
   "source": [
    "import os\n",
    "\n",
    "def remove_columns(input_directory):\n",
    "    # Obtener la lista de archivos en el directorio\n",
    "    files = os.listdir(input_directory)\n",
    "    \n",
    "    # Iterar sobre cada archivo en el directorio\n",
    "    for file_name in files:\n",
    "        if file_name.endswith(\".log\"):\n",
    "            # Construir la ruta completa del archivo\n",
    "            file_path = os.path.join(input_directory, file_name)\n",
    "            \n",
    "            # Leer el contenido del archivo\n",
    "            with open(file_path, \"r\") as file:\n",
    "                lines = file.readlines()\n",
    "            \n",
    "            # Eliminar las dos primeras columnas de cada línea\n",
    "            updated_lines = [line.split(\" \", 2)[2] for line in lines]\n",
    "            \n",
    "            # Escribir el contenido actualizado en el archivo\n",
    "            with open(file_path, \"w\") as file:\n",
    "                file.writelines(updated_lines)\n",
    "                \n",
    "            print(f\"Archivo '{file_name}' procesado exitosamente.\")\n",
    "\n",
    "# Directorio de entrada\n",
    "input_directory = \"C:\\\\Users\\\\maria\\\\TFG\\\\AS\\\\files_logs\"\n",
    "\n",
    "# Llamar a la función para eliminar las dos primeras columnas de todos los archivos\n",
    "remove_columns(input_directory)\n"
   ]
  },
  {
   "cell_type": "code",
   "execution_count": null,
   "id": "71e2bb14",
   "metadata": {},
   "outputs": [],
   "source": []
  }
 ],
 "metadata": {
  "kernelspec": {
   "display_name": "Python 3 (ipykernel)",
   "language": "python",
   "name": "python3"
  },
  "language_info": {
   "codemirror_mode": {
    "name": "ipython",
    "version": 3
   },
   "file_extension": ".py",
   "mimetype": "text/x-python",
   "name": "python",
   "nbconvert_exporter": "python",
   "pygments_lexer": "ipython3",
   "version": "3.9.13"
  }
 },
 "nbformat": 4,
 "nbformat_minor": 5
}
