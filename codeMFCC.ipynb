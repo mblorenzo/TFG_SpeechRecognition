{
 "cells": [
  {
   "cell_type": "code",
   "execution_count": 10,
   "id": "10c36e2f",
   "metadata": {},
   "outputs": [],
   "source": [
    "def primeracolumna(archivo, adicion):\n",
    "    \n",
    "    file = open(archivo, 'r+')\n",
    "    lines = file.readlines()\n",
    "    \n",
    "    file.seek(0) #mueve el cursor al principio del archivo\n",
    "    \n",
    "    for line in lines:\n",
    "\n",
    "        nuevotexto = adicion + '/' + line  \n",
    "        \n",
    "        file.write(nuevotexto)\n",
    "        \n",
    "    file.truncate() # Elimina cualquier línea restante después de las nuevas líneas escritas\n",
    "       \n",
    "            \n",
    "    file.close()\n",
    "\n",
    "primeracolumna('audiosToCode.txt','/media/sf_TFG/AudiosDataBase')"
   ]
  },
  {
   "cell_type": "code",
   "execution_count": 11,
   "id": "02e6e7fc",
   "metadata": {},
   "outputs": [],
   "source": [
    "def copia_cambia(file, copyfile):\n",
    "    \n",
    "    file = open(file, 'r')\n",
    "    copyfile= open(copyfile, 'w')\n",
    "    \n",
    "    for line in file:\n",
    "            line = line.replace('\\n', '') #reemplaza el salto de línea por un espacio en blanco\n",
    "            add_line = line[:-4] # add line es igual que line menos las ultimas 4 posiciones que se le quitan\n",
    "            add_line = add_line + '.mfc' + '\\n' #le añadimos la nueva terminación y el salto de línea\n",
    "            new_line = line + ' ' + add_line\n",
    "            copyfile.write(new_line)\n",
    "            \n",
    "    file.close()\n",
    "    copyfile.close()\n",
    "\n",
    "\n",
    "copia_cambia(\"audiosToCode.txt\",\"fileMFC.txt\")"
   ]
  },
  {
   "cell_type": "code",
   "execution_count": null,
   "id": "43ee226f",
   "metadata": {},
   "outputs": [],
   "source": []
  }
 ],
 "metadata": {
  "kernelspec": {
   "display_name": "Python 3 (ipykernel)",
   "language": "python",
   "name": "python3"
  },
  "language_info": {
   "codemirror_mode": {
    "name": "ipython",
    "version": 3
   },
   "file_extension": ".py",
   "mimetype": "text/x-python",
   "name": "python",
   "nbconvert_exporter": "python",
   "pygments_lexer": "ipython3",
   "version": "3.9.13"
  }
 },
 "nbformat": 4,
 "nbformat_minor": 5
}
