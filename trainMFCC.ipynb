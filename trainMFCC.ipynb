{
 "cells": [
  {
   "cell_type": "code",
   "execution_count": null,
   "id": "71c4144d",
   "metadata": {},
   "outputs": [],
   "source": [
    "def readAndSelect(file, copyfile):\n",
    "    \n",
    "    file = open(file, 'r')\n",
    "    copyfile= open(copyfile, 'w')\n",
    "    \n",
    "    numbers = [\"AVPEPUDEA0053\", \"AVPEPUDEA0020\", \"AVPEPUDEA0039\", \"AVPEPUDEA0057\", \"AVPEPUDEA0003\",\n",
    "\"AVPEPUDEAC0054\", \"AVPEPUDEAC0044\", \"AVPEPUDEAC0042\", \"AVPEPUDEAC0049\", \"AVPEPUDEAC0028\",\n",
    "\"AVPEPUDEA0022\", \"AVPEPUDEA0031\", \"AVPEPUDEA0001\", \"AVPEPUDEA0015\",   \n",
    "\"AVPEPUDEAC0030\", \"AVPEPUDEAC0048\", \"AVPEPUDEAC0010\", \"AVPEPUDEAC0045\" \n",
    "]\n",
    "        \n",
    "    \n",
    "    for line in file:\n",
    "        \n",
    "        if not any(id in line for id in numbers): # recorremos cada línea y vemos si hay algún ID no válido con la función any()\n",
    "                copyfile.write(line)#si no hay ninguno de los ids, lo escribimos\n",
    "          \n",
    "            \n",
    "    file.close()\n",
    "    copyfile.close()\n",
    "    \n",
    "    \n",
    "    #note: any() returns True if any item in an iterable are true, otherwise FALSE (if it is empty)"
   ]
  },
  {
   "cell_type": "code",
   "execution_count": null,
   "id": "a736a6c5",
   "metadata": {},
   "outputs": [],
   "source": [
    "readAndSelect(\"MFCCs_listed.txt\", \"mfcc_train_1_1.txt\")"
   ]
  },
  {
   "cell_type": "code",
   "execution_count": null,
   "id": "d3209d08",
   "metadata": {},
   "outputs": [],
   "source": [
    "def add(archivo, adicion):\n",
    "    \n",
    "    file = open(archivo, 'r+')\n",
    "    lines = file.readlines()\n",
    "    \n",
    "    file.seek(0) #mueve el cursor al principio del archivo\n",
    "    \n",
    "    for line in lines:\n",
    "\n",
    "        nuevotexto = adicion + '/' + line  \n",
    "        \n",
    "        file.write(nuevotexto)\n",
    "        \n",
    "    file.truncate() # Elimina cualquier línea restante después de las nuevas líneas escritas\n",
    "       \n",
    "            \n",
    "    file.close()"
   ]
  },
  {
   "cell_type": "code",
   "execution_count": null,
   "id": "51ad1a27",
   "metadata": {},
   "outputs": [],
   "source": [
    "add('mfcc_train_1_1.txt','/media/sf_TFG/MFCCs_filesAudios')"
   ]
  },
  {
   "cell_type": "code",
   "execution_count": null,
   "id": "8d08a07b",
   "metadata": {},
   "outputs": [],
   "source": []
  }
 ],
 "metadata": {
  "kernelspec": {
   "display_name": "Python 3 (ipykernel)",
   "language": "python",
   "name": "python3"
  },
  "language_info": {
   "codemirror_mode": {
    "name": "ipython",
    "version": 3
   },
   "file_extension": ".py",
   "mimetype": "text/x-python",
   "name": "python",
   "nbconvert_exporter": "python",
   "pygments_lexer": "ipython3",
   "version": "3.9.13"
  }
 },
 "nbformat": 4,
 "nbformat_minor": 5
}
