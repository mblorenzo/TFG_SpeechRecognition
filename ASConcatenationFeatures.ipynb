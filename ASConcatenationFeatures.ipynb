{
 "cells": [
  {
   "cell_type": "code",
   "execution_count": null,
   "id": "f30c021e",
   "metadata": {},
   "outputs": [],
   "source": [
    "def concatenate_files(file1, file2, output_file):\n",
    "\n",
    "     with open(file1, 'r') as f1, open(file2, 'r') as f2, open(output_file,'w') as fout:\n",
    "     \n",
    "            cols1 = f1.readlines()\n",
    "            cols2 = f2.readlines()\n",
    "            \n",
    "            if len(cols1) != len(cols2):\n",
    "                \n",
    "                print(\"ERROR: files with different length\")\n",
    "                \n",
    "                return\n",
    "            for i in range(len(cols1)):\n",
    "                col1 = cols1[i].strip()\n",
    "                col2 = cols2[i].strip()\n",
    "                \n",
    "                line_concatenated =  f\"{col1} {col2}\\n\"\n",
    "                fout.write(line_concatenated)\n",
    "                \n",
    "  \n"
   ]
  },
  {
   "cell_type": "code",
   "execution_count": null,
   "id": "d90c9f2e",
   "metadata": {},
   "outputs": [],
   "source": [
    "file1 = \"C:\\\\Users\\\\maria\\\\TFG\\\\AS\\\\testfeature10.txt\"\n",
    "file2 = \"C:\\\\Users\\\\maria\\\\TFG\\\\AS\\\\files_logs\\\\window_testActivationFile10.log\"\n",
    "output_file = \"C:\\\\Users\\\\maria\\\\TFG\\\\AS\\\\posteriors\\\\posteriors10test.txt\"\n",
    "\n",
    "concatenate_files(file1, file2, output_file)"
   ]
  },
  {
   "cell_type": "code",
   "execution_count": null,
   "id": "27b06528",
   "metadata": {},
   "outputs": [],
   "source": []
  }
 ],
 "metadata": {
  "kernelspec": {
   "display_name": "Python 3 (ipykernel)",
   "language": "python",
   "name": "python3"
  },
  "language_info": {
   "codemirror_mode": {
    "name": "ipython",
    "version": 3
   },
   "file_extension": ".py",
   "mimetype": "text/x-python",
   "name": "python",
   "nbconvert_exporter": "python",
   "pygments_lexer": "ipython3",
   "version": "3.9.13"
  }
 },
 "nbformat": 4,
 "nbformat_minor": 5
}
