{
 "cells": [
  {
   "cell_type": "code",
   "execution_count": null,
   "id": "4586e68f",
   "metadata": {},
   "outputs": [],
   "source": [
    "def readAndSelect(file, copyfile):\n",
    "    \n",
    "    file = open(file, 'r')\n",
    "    copyfile= open(copyfile, 'w')\n",
    "    \n",
    "    numbers = ['AVPEPUDEA0024', …]\n",
    "        \n",
    "    for line in file:\n",
    "        \n",
    "        if any(id in line for id in numbers): \n",
    "                copyfile.write(line)\n",
    "\n",
    "    file.close()\n",
    "    copyfile.close()\n"
   ]
  },
  {
   "cell_type": "code",
   "execution_count": null,
   "id": "e5a185ce",
   "metadata": {},
   "outputs": [],
   "source": [
    "readAndSelect(\"MFCCs_listed.txt\", 'mfcc_test_1_1.txt')"
   ]
  },
  {
   "cell_type": "code",
   "execution_count": null,
   "id": "a893d669",
   "metadata": {},
   "outputs": [],
   "source": [
    "def add(archivo, adicion):\n",
    "    \n",
    "    file = open(archivo, 'r+')\n",
    "    lines = file.readlines()\n",
    "    \n",
    "    file.seek(0) \n",
    "    \n",
    "    for line in lines:\n",
    "\n",
    "        new_text = adicion + '/' + line  \n",
    "        \n",
    "        file.write(new_text)\n",
    "        \n",
    "    file.truncate() \n",
    "       \n",
    "            \n",
    "    file.close()\n"
   ]
  },
  {
   "cell_type": "code",
   "execution_count": null,
   "id": "7c1ca6dc",
   "metadata": {},
   "outputs": [],
   "source": [
    "add(‘mfcc_test_1_1.txt', 'MFCCs_filesAudios')"
   ]
  }
 ],
 "metadata": {
  "kernelspec": {
   "display_name": "Python 3 (ipykernel)",
   "language": "python",
   "name": "python3"
  },
  "language_info": {
   "codemirror_mode": {
    "name": "ipython",
    "version": 3
   },
   "file_extension": ".py",
   "mimetype": "text/x-python",
   "name": "python",
   "nbconvert_exporter": "python",
   "pygments_lexer": "ipython3",
   "version": "3.9.13"
  }
 },
 "nbformat": 4,
 "nbformat_minor": 5
}
